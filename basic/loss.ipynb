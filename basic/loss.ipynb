{
 "cells": [
  {
   "cell_type": "code",
   "execution_count": 1,
   "metadata": {
    "collapsed": true
   },
   "outputs": [],
   "source": [
    "## cross entropy"
   ]
  },
  {
   "cell_type": "code",
   "execution_count": 1,
   "metadata": {
    "collapsed": true
   },
   "outputs": [],
   "source": [
    "import torch\n",
    "import torch.nn as nn"
   ]
  },
  {
   "cell_type": "code",
   "execution_count": 2,
   "metadata": {
    "collapsed": true
   },
   "outputs": [],
   "source": [
    "sigmoid = nn.Sigmoid()\n",
    "softmax = nn.Softmax(dim=1)  # dim=1: sum of rows is one; dim=0: sum of columns is one\n",
    "\n",
    "inputs = torch.randn(3, 2)"
   ]
  },
  {
   "cell_type": "code",
   "execution_count": 3,
   "metadata": {},
   "outputs": [
    {
     "name": "stdout",
     "output_type": "stream",
     "text": [
      "tensor([[-1.3421, -2.0072],\n",
      "        [ 0.1417,  0.2043],\n",
      "        [-0.5273, -0.4909]])\n",
      "tensor([[0.2072, 0.1185],\n",
      "        [0.5354, 0.5509],\n",
      "        [0.3712, 0.3797]])\n",
      "tensor([[0.6604, 0.3396],\n",
      "        [0.4843, 0.5157],\n",
      "        [0.4909, 0.5091]])\n"
     ]
    }
   ],
   "source": [
    "print(inputs)\n",
    "print(sigmoid(inputs))\n",
    "print(softmax(inputs))"
   ]
  },
  {
   "cell_type": "code",
   "execution_count": 4,
   "metadata": {
    "collapsed": true
   },
   "outputs": [],
   "source": [
    "label1 = torch.Tensor([[0, 1], [1, 0], [1, 0]])\n",
    "label2 = torch.tensor([1, 0, 0], dtype=torch.int64)"
   ]
  },
  {
   "cell_type": "code",
   "execution_count": 5,
   "metadata": {
    "collapsed": true
   },
   "outputs": [],
   "source": [
    "BCELoss = nn.BCELoss()\n",
    "BCEWithLogitsLoss = nn.BCEWithLogitsLoss()\n",
    "CELoss = nn.CrossEntropyLoss()"
   ]
  },
  {
   "cell_type": "code",
   "execution_count": 6,
   "metadata": {},
   "outputs": [
    {
     "name": "stdout",
     "output_type": "stream",
     "text": [
      "tensor(0.8766)\n",
      "tensor(0.8766)\n",
      "tensor(0.8388)\n",
      "tensor(0.8388)\n"
     ]
    }
   ],
   "source": [
    "print(BCELoss(sigmoid(inputs), label1))\n",
    "print(BCEWithLogitsLoss(inputs, label1))\n",
    "print(BCELoss(softmax(inputs), label1))\n",
    "print(CELoss(inputs, label2))"
   ]
  },
  {
   "cell_type": "code",
   "execution_count": 10,
   "metadata": {},
   "outputs": [
    {
     "name": "stdout",
     "output_type": "stream",
     "text": [
      "tensor([-2.0072,  0.2043, -0.4909])\n"
     ]
    }
   ],
   "source": [
    "inputs2 = inputs[:, 1]\n",
    "print(inputs2)"
   ]
  },
  {
   "cell_type": "code",
   "execution_count": 11,
   "metadata": {},
   "outputs": [
    {
     "name": "stdout",
     "output_type": "stream",
     "text": [
      "tensor([0.1185, 0.5509, 0.3797])\n"
     ]
    }
   ],
   "source": [
    "inputs2 = sigmoid(inputs2)\n",
    "print(inputs2)"
   ]
  },
  {
   "cell_type": "code",
   "execution_count": 12,
   "metadata": {},
   "outputs": [],
   "source": [
    "label2 = label2.float()"
   ]
  },
  {
   "cell_type": "code",
   "execution_count": 13,
   "metadata": {},
   "outputs": [
    {
     "name": "stdout",
     "output_type": "stream",
     "text": [
      "torch.float32 torch.float32\n",
      "tensor(1.1371)\n"
     ]
    }
   ],
   "source": [
    "print(inputs2.dtype, label2.dtype)\n",
    "print(BCELoss(inputs2, label2))"
   ]
  },
  {
   "cell_type": "code",
   "execution_count": null,
   "metadata": {
    "collapsed": true
   },
   "outputs": [],
   "source": []
  }
 ],
 "metadata": {
  "kernelspec": {
   "display_name": "Python 3",
   "language": "python",
   "name": "python3"
  },
  "language_info": {
   "codemirror_mode": {
    "name": "ipython",
    "version": 3
   },
   "file_extension": ".py",
   "mimetype": "text/x-python",
   "name": "python",
   "nbconvert_exporter": "python",
   "pygments_lexer": "ipython3",
   "version": "3.6.6"
  }
 },
 "nbformat": 4,
 "nbformat_minor": 2
}
