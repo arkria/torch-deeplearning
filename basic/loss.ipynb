{
 "cells": [
  {
   "cell_type": "code",
   "execution_count": 1,
   "metadata": {
    "collapsed": true
   },
   "outputs": [],
   "source": [
    "## cross entropy"
   ]
  },
  {
   "cell_type": "code",
   "execution_count": 2,
   "metadata": {
    "collapsed": true
   },
   "outputs": [],
   "source": [
    "import torch\n",
    "import torch.nn as nn"
   ]
  },
  {
   "cell_type": "code",
   "execution_count": 3,
   "metadata": {
    "collapsed": true
   },
   "outputs": [],
   "source": [
    "sigmoid = nn.Sigmoid()\n",
    "softmax = nn.Softmax(dim=1)  # dim=1: sum of rows is one; dim=0: sum of columns is one\n",
    "\n",
    "inputs = torch.randn(3, 2)"
   ]
  },
  {
   "cell_type": "code",
   "execution_count": 4,
   "metadata": {},
   "outputs": [
    {
     "name": "stdout",
     "output_type": "stream",
     "text": [
      "tensor([[-1.6268,  0.4628],\n",
      "        [ 0.0956, -0.5239],\n",
      "        [-0.8535, -1.2983]])\n",
      "tensor([[0.1643, 0.6137],\n",
      "        [0.5239, 0.3719],\n",
      "        [0.2987, 0.2144]])\n",
      "tensor([[0.1101, 0.8899],\n",
      "        [0.6501, 0.3499],\n",
      "        [0.6094, 0.3906]])\n"
     ]
    }
   ],
   "source": [
    "print(inputs)\n",
    "print(sigmoid(inputs))\n",
    "print(softmax(inputs))"
   ]
  },
  {
   "cell_type": "code",
   "execution_count": 5,
   "metadata": {
    "collapsed": true
   },
   "outputs": [],
   "source": [
    "label1 = torch.Tensor([[0, 1], [1, 0], [1, 0]])\n",
    "label2 = torch.tensor([1, 0, 0], dtype=torch.int64)"
   ]
  },
  {
   "cell_type": "code",
   "execution_count": 6,
   "metadata": {
    "collapsed": true
   },
   "outputs": [],
   "source": [
    "BCELoss = nn.BCELoss()\n",
    "BCEWithLogitsLoss = nn.BCEWithLogitsLoss()\n",
    "CELoss = nn.CrossEntropyLoss()"
   ]
  },
  {
   "cell_type": "code",
   "execution_count": 7,
   "metadata": {},
   "outputs": [
    {
     "name": "stdout",
     "output_type": "stream",
     "text": [
      "tensor(0.5382)\n",
      "tensor(0.5382)\n",
      "tensor(0.3475)\n",
      "tensor(0.3475)\n"
     ]
    }
   ],
   "source": [
    "print(BCELoss(sigmoid(inputs), label1))\n",
    "print(BCEWithLogitsLoss(inputs, label1))\n",
    "print(BCELoss(softmax(inputs), label1))\n",
    "print(CELoss(inputs, label2))"
   ]
  },
  {
   "cell_type": "code",
   "execution_count": 8,
   "metadata": {
    "collapsed": true
   },
   "outputs": [],
   "source": [
    "inputs2 = sigmoid(inputs)[:, 1]"
   ]
  },
  {
   "cell_type": "code",
   "execution_count": 18,
   "metadata": {},
   "outputs": [
    {
     "name": "stderr",
     "output_type": "stream",
     "text": [
      "F:\\codingtools\\Anaconda3\\lib\\site-packages\\ipykernel_launcher.py:2: UserWarning: To copy construct from a tensor, it is recommended to use sourceTensor.clone().detach() or sourceTensor.clone().detach().requires_grad_(True), rather than torch.tensor(sourceTensor).\n",
      "  \n"
     ]
    }
   ],
   "source": [
    "inputs2 = torch.FloatTensor(inputs2)\n",
    "label2 = torch.tensor(label2, dtype=torch.float32)"
   ]
  },
  {
   "cell_type": "code",
   "execution_count": 19,
   "metadata": {},
   "outputs": [
    {
     "name": "stdout",
     "output_type": "stream",
     "text": [
      "torch.float32 torch.float32\n",
      "tensor(0.3983)\n"
     ]
    }
   ],
   "source": [
    "print(inputs2.dtype, label2.dtype)\n",
    "print(BCELoss(inputs2, label2))"
   ]
  },
  {
   "cell_type": "code",
   "execution_count": null,
   "metadata": {
    "collapsed": true
   },
   "outputs": [],
   "source": []
  }
 ],
 "metadata": {
  "kernelspec": {
   "display_name": "Python 3",
   "language": "python",
   "name": "python3"
  },
  "language_info": {
   "codemirror_mode": {
    "name": "ipython",
    "version": 3
   },
   "file_extension": ".py",
   "mimetype": "text/x-python",
   "name": "python",
   "nbconvert_exporter": "python",
   "pygments_lexer": "ipython3",
   "version": "3.6.6"
  }
 },
 "nbformat": 4,
 "nbformat_minor": 2
}
