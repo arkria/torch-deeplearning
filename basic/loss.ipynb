{
 "cells": [
  {
   "cell_type": "code",
   "execution_count": 1,
   "metadata": {},
   "outputs": [],
   "source": [
    "## cross entropy"
   ]
  },
  {
   "cell_type": "code",
   "execution_count": 3,
   "metadata": {},
   "outputs": [],
   "source": [
    "import torch\n",
    "import torch.nn as nn"
   ]
  },
  {
   "cell_type": "code",
   "execution_count": 16,
   "metadata": {},
   "outputs": [],
   "source": [
    "sigmoid = nn.Sigmoid()\n",
    "softmax = nn.Softmax(dim=1)  # dim=1: sum of rows is one; dim=0: sum of columns is one\n",
    "\n",
    "inputs = torch.randn(3, 2)"
   ]
  },
  {
   "cell_type": "code",
   "execution_count": 17,
   "metadata": {},
   "outputs": [
    {
     "name": "stdout",
     "output_type": "stream",
     "text": [
      "tensor([[ 0.0178,  0.8244],\n",
      "        [ 1.2344, -0.7891],\n",
      "        [ 0.5391, -0.0204]])\n",
      "tensor([[0.5045, 0.6952],\n",
      "        [0.7746, 0.3124],\n",
      "        [0.6316, 0.4949]])\n",
      "tensor([[0.3086, 0.6914],\n",
      "        [0.8832, 0.1168],\n",
      "        [0.6363, 0.3637]])\n"
     ]
    }
   ],
   "source": [
    "print(inputs)\n",
    "print(sigmoid(inputs))\n",
    "print(softmax(inputs))"
   ]
  },
  {
   "cell_type": "code",
   "execution_count": 26,
   "metadata": {},
   "outputs": [],
   "source": [
    "label1 = torch.Tensor([[0, 1], [1, 0], [1, 0]])\n",
    "label2 = torch.tensor([1, 0, 0], dtype=torch.int64)"
   ]
  },
  {
   "cell_type": "code",
   "execution_count": 20,
   "metadata": {},
   "outputs": [],
   "source": [
    "BCELoss = nn.BCELoss()\n",
    "BCEWithLogitsLoss = nn.BCEWithLogitsLoss()\n",
    "CELoss = nn.CrossEntropyLoss()"
   ]
  },
  {
   "cell_type": "code",
   "execution_count": 27,
   "metadata": {},
   "outputs": [
    {
     "name": "stdout",
     "output_type": "stream",
     "text": [
      "tensor(0.4730)\n",
      "tensor(0.4730)\n",
      "tensor(0.3151)\n",
      "tensor(0.3151)\n"
     ]
    }
   ],
   "source": [
    "print(BCELoss(sigmoid(inputs), label1))\n",
    "print(BCEWithLogitsLoss(inputs, label1))\n",
    "print(BCELoss(softmax(inputs), label1))\n",
    "print(CELoss(inputs, label2))"
   ]
  },
  {
   "cell_type": "code",
   "execution_count": null,
   "metadata": {},
   "outputs": [],
   "source": []
  }
 ],
 "metadata": {
  "kernelspec": {
   "display_name": "Python 3",
   "language": "python",
   "name": "python3"
  },
  "language_info": {
   "codemirror_mode": {
    "name": "ipython",
    "version": 3
   },
   "file_extension": ".py",
   "mimetype": "text/x-python",
   "name": "python",
   "nbconvert_exporter": "python",
   "pygments_lexer": "ipython3",
   "version": "3.7.4"
  }
 },
 "nbformat": 4,
 "nbformat_minor": 2
}
