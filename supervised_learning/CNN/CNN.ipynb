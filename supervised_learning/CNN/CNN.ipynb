{
 "cells": [
  {
   "cell_type": "code",
   "execution_count": 1,
   "metadata": {
    "collapsed": true
   },
   "outputs": [],
   "source": [
    "import torch\n",
    "import torch.nn as nn\n",
    "import torch.nn.functional as F"
   ]
  },
  {
   "cell_type": "code",
   "execution_count": 2,
   "metadata": {
    "collapsed": true
   },
   "outputs": [],
   "source": [
    "x_input = torch.randn(1, 3, 5, 5)"
   ]
  },
  {
   "cell_type": "code",
   "execution_count": 3,
   "metadata": {},
   "outputs": [
    {
     "data": {
      "text/plain": [
       "tensor([[[[ 0.2576, -0.0099,  0.2829, -0.1702, -0.5715],\n",
       "          [ 0.7104, -1.3992, -0.3415,  0.1275,  0.5706],\n",
       "          [-1.9449,  0.4265, -0.5839, -1.9471, -2.1250],\n",
       "          [ 0.1576, -0.7712, -1.0656, -0.3378, -0.8650],\n",
       "          [ 0.7309, -1.5064,  1.3109,  1.5246,  0.6502]],\n",
       "\n",
       "         [[-1.4453,  0.2089,  0.2586, -0.6369,  0.4095],\n",
       "          [ 1.3268, -0.6307, -0.9608, -0.0261,  0.6277],\n",
       "          [-2.0889, -0.5692,  1.1346, -2.1920, -2.0180],\n",
       "          [ 0.3122,  0.0811, -1.6238, -1.0427,  0.2064],\n",
       "          [-0.1784,  0.2840, -2.3459,  1.8085,  1.7743]],\n",
       "\n",
       "         [[-0.7225,  0.5364,  0.3067, -0.1189,  0.7855],\n",
       "          [ 0.9150, -0.4012,  0.0843, -1.2318, -1.2012],\n",
       "          [ 1.4811, -0.3819,  1.2347,  1.2065, -1.0288],\n",
       "          [-1.4630,  0.5192,  0.2413,  1.2295,  0.8132],\n",
       "          [-0.2677,  0.9457, -0.4371, -0.2998,  1.7715]]]])"
      ]
     },
     "execution_count": 3,
     "metadata": {},
     "output_type": "execute_result"
    }
   ],
   "source": [
    "x_input"
   ]
  },
  {
   "cell_type": "code",
   "execution_count": 5,
   "metadata": {},
   "outputs": [],
   "source": [
    "conv1 = nn.Conv2d(3, 2, kernel_size=3, stride=1)\n",
    "out1 = conv1(x_input)"
   ]
  },
  {
   "cell_type": "code",
   "execution_count": 6,
   "metadata": {},
   "outputs": [
    {
     "data": {
      "text/plain": [
       "tensor([[[[ 0.7134, -0.8244,  0.0189],\n",
       "          [-0.8252,  0.7469,  0.1264],\n",
       "          [ 0.3399,  0.7703, -1.1446]],\n",
       "\n",
       "         [[-0.3618,  0.5327, -0.1660],\n",
       "          [ 0.5665,  0.2026,  0.0491],\n",
       "          [-0.2238, -0.9973,  1.1545]]]], grad_fn=<ThnnConv2DBackward>)"
      ]
     },
     "execution_count": 6,
     "metadata": {},
     "output_type": "execute_result"
    }
   ],
   "source": [
    "out1"
   ]
  },
  {
   "cell_type": "code",
   "execution_count": 7,
   "metadata": {},
   "outputs": [
    {
     "data": {
      "text/plain": [
       "torch.Size([1, 2, 3, 3])"
      ]
     },
     "execution_count": 7,
     "metadata": {},
     "output_type": "execute_result"
    }
   ],
   "source": [
    "out1.shape"
   ]
  },
  {
   "cell_type": "code",
   "execution_count": 8,
   "metadata": {},
   "outputs": [
    {
     "name": "stdout",
     "output_type": "stream",
     "text": [
      "torch.Size([1, 2, 3, 3])\n"
     ]
    }
   ],
   "source": [
    "conv2 = nn.Conv2d(3, 2, kernel_size=3, stride=1, padding=0)\n",
    "out2 = conv2(x_input)\n",
    "print(out2.shape)"
   ]
  },
  {
   "cell_type": "code",
   "execution_count": 10,
   "metadata": {},
   "outputs": [
    {
     "name": "stdout",
     "output_type": "stream",
     "text": [
      "torch.Size([1, 2, 7, 7])\n"
     ]
    }
   ],
   "source": [
    "conv3 = nn.Conv2d(3, 2, kernel_size=3, stride=1, padding=2)\n",
    "out3 = conv3(x_input)\n",
    "print(out3.shape)"
   ]
  },
  {
   "cell_type": "code",
   "execution_count": 11,
   "metadata": {},
   "outputs": [
    {
     "name": "stdout",
     "output_type": "stream",
     "text": [
      "torch.Size([1, 2, 3, 1])\n"
     ]
    }
   ],
   "source": [
    "conv4 = nn.Conv2d(3, 2, kernel_size=(3, 5), stride=1, padding=0)\n",
    "out4 = conv4(x_input)\n",
    "print(out4.shape)"
   ]
  },
  {
   "cell_type": "code",
   "execution_count": 14,
   "metadata": {},
   "outputs": [
    {
     "data": {
      "text/plain": [
       "torch.Size([2, 3, 3, 5])"
      ]
     },
     "execution_count": 14,
     "metadata": {},
     "output_type": "execute_result"
    }
   ],
   "source": [
    "conv4.weight.shape"
   ]
  },
  {
   "cell_type": "code",
   "execution_count": 15,
   "metadata": {
    "scrolled": true
   },
   "outputs": [
    {
     "data": {
      "text/plain": [
       "Parameter containing:\n",
       "tensor([[[[-0.1098, -0.0818, -0.0383,  0.0322,  0.0717],\n",
       "          [ 0.1388, -0.0503,  0.0726, -0.0727, -0.0446],\n",
       "          [ 0.0151, -0.1412,  0.1189,  0.1017,  0.0640]],\n",
       "\n",
       "         [[ 0.1345,  0.0229,  0.0581,  0.0161, -0.0574],\n",
       "          [-0.1017, -0.0644, -0.1049, -0.0604, -0.1365],\n",
       "          [-0.0603, -0.0059,  0.1282, -0.1398,  0.0388]],\n",
       "\n",
       "         [[ 0.1436, -0.0334, -0.0931, -0.1281, -0.1086],\n",
       "          [-0.1231,  0.1157, -0.0891, -0.0066,  0.0215],\n",
       "          [ 0.0597,  0.1322, -0.0765,  0.1385, -0.1426]]],\n",
       "\n",
       "\n",
       "        [[[-0.0313,  0.1148,  0.1438, -0.1159, -0.0506],\n",
       "          [ 0.1118, -0.1334,  0.0250, -0.0792,  0.1395],\n",
       "          [-0.0481,  0.0142,  0.0527, -0.0460, -0.1294]],\n",
       "\n",
       "         [[-0.0042,  0.0351, -0.0371,  0.0960,  0.0043],\n",
       "          [ 0.0446,  0.0953,  0.1166,  0.0683,  0.0608],\n",
       "          [-0.0413, -0.0933,  0.0481, -0.0724,  0.0054]],\n",
       "\n",
       "         [[-0.1095,  0.0633,  0.0247,  0.1185, -0.1050],\n",
       "          [ 0.0422,  0.1094, -0.1409, -0.0071, -0.0384],\n",
       "          [-0.1303,  0.0930, -0.0097,  0.0142,  0.1104]]]], requires_grad=True)"
      ]
     },
     "execution_count": 15,
     "metadata": {},
     "output_type": "execute_result"
    }
   ],
   "source": [
    "conv4.weight"
   ]
  },
  {
   "cell_type": "code",
   "execution_count": 16,
   "metadata": {},
   "outputs": [
    {
     "data": {
      "text/plain": [
       "tensor([[[[ 0.7134, -0.8244,  0.0189],\n",
       "          [-0.8252,  0.7469,  0.1264],\n",
       "          [ 0.3399,  0.7703, -1.1446]],\n",
       "\n",
       "         [[-0.3618,  0.5327, -0.1660],\n",
       "          [ 0.5665,  0.2026,  0.0491],\n",
       "          [-0.2238, -0.9973,  1.1545]]]], grad_fn=<ThnnConv2DBackward>)"
      ]
     },
     "execution_count": 16,
     "metadata": {},
     "output_type": "execute_result"
    }
   ],
   "source": [
    "out1"
   ]
  },
  {
   "cell_type": "code",
   "execution_count": 17,
   "metadata": {
    "collapsed": true
   },
   "outputs": [],
   "source": [
    "maxpool1 = nn.MaxPool2d(2, 1)"
   ]
  },
  {
   "cell_type": "code",
   "execution_count": 18,
   "metadata": {
    "collapsed": true
   },
   "outputs": [],
   "source": [
    "out11 = maxpool1(out1)"
   ]
  },
  {
   "cell_type": "code",
   "execution_count": 19,
   "metadata": {},
   "outputs": [
    {
     "data": {
      "text/plain": [
       "tensor([[[[0.7469, 0.7469],\n",
       "          [0.7703, 0.7703]],\n",
       "\n",
       "         [[0.5665, 0.5327],\n",
       "          [0.5665, 1.1545]]]], grad_fn=<MaxPool2DWithIndicesBackward>)"
      ]
     },
     "execution_count": 19,
     "metadata": {},
     "output_type": "execute_result"
    }
   ],
   "source": [
    "out11"
   ]
  },
  {
   "cell_type": "code",
   "execution_count": null,
   "metadata": {
    "collapsed": true
   },
   "outputs": [],
   "source": []
  }
 ],
 "metadata": {
  "kernelspec": {
   "display_name": "Python 3",
   "language": "python",
   "name": "python3"
  },
  "language_info": {
   "codemirror_mode": {
    "name": "ipython",
    "version": 3
   },
   "file_extension": ".py",
   "mimetype": "text/x-python",
   "name": "python",
   "nbconvert_exporter": "python",
   "pygments_lexer": "ipython3",
   "version": "3.6.6"
  }
 },
 "nbformat": 4,
 "nbformat_minor": 2
}
