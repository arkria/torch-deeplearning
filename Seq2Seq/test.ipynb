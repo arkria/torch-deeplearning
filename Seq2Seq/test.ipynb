{
 "cells": [
  {
   "cell_type": "code",
   "execution_count": 1,
   "metadata": {
    "collapsed": true
   },
   "outputs": [],
   "source": [
    "import numpy as np"
   ]
  },
  {
   "cell_type": "code",
   "execution_count": 2,
   "metadata": {
    "collapsed": true
   },
   "outputs": [],
   "source": [
    "import torch.nn as nn"
   ]
  },
  {
   "cell_type": "code",
   "execution_count": 3,
   "metadata": {
    "collapsed": true
   },
   "outputs": [],
   "source": [
    "import torch"
   ]
  },
  {
   "cell_type": "code",
   "execution_count": 4,
   "metadata": {
    "collapsed": true
   },
   "outputs": [],
   "source": [
    "a = torch.randn(3, 2, 4,  4)"
   ]
  },
  {
   "cell_type": "code",
   "execution_count": 5,
   "metadata": {},
   "outputs": [
    {
     "data": {
      "text/plain": [
       "tensor([[[[ 0.1326, -0.4469, -1.8893, -0.0173],\n",
       "          [ 0.1470,  0.8052,  0.1452, -1.2739],\n",
       "          [-0.6196,  0.0174, -1.8090, -0.5220],\n",
       "          [ 0.6511, -0.5360,  1.3740, -0.1109]],\n",
       "\n",
       "         [[-0.8522,  0.0888,  0.0211,  1.1845],\n",
       "          [ 1.2420, -1.7954, -0.3450, -1.4394],\n",
       "          [-0.7991, -1.4759,  0.8166, -1.3027],\n",
       "          [-2.3017,  1.0936, -0.0859, -0.5237]]],\n",
       "\n",
       "\n",
       "        [[[-1.0606, -0.2963,  0.6789,  2.0139],\n",
       "          [ 0.7893,  0.2023,  0.2171,  0.0164],\n",
       "          [-0.4715,  1.5466,  2.1566,  0.7128],\n",
       "          [ 0.1048, -0.2634,  0.2985,  0.5655]],\n",
       "\n",
       "         [[ 0.1868, -0.0740, -0.0374, -2.6862],\n",
       "          [ 0.8208, -0.5322, -0.1911, -0.8371],\n",
       "          [ 0.4386,  0.5164,  0.3949, -0.3153],\n",
       "          [ 2.6537,  0.6778,  0.1206,  0.5671]]],\n",
       "\n",
       "\n",
       "        [[[ 0.6541,  0.1763, -0.4439, -0.1078],\n",
       "          [ 0.7083, -0.1954,  0.4829, -1.4821],\n",
       "          [-2.6569, -0.6454,  0.5084, -0.3519],\n",
       "          [ 0.9342, -1.4879,  0.5695,  1.0583]],\n",
       "\n",
       "         [[ 0.1594,  0.9235,  1.1532,  0.8147],\n",
       "          [ 0.2048,  0.3083, -0.3346, -0.5604],\n",
       "          [ 1.5106,  0.5936,  0.3633, -0.2778],\n",
       "          [ 0.9585,  0.8776, -0.4004, -0.6447]]]])"
      ]
     },
     "execution_count": 5,
     "metadata": {},
     "output_type": "execute_result"
    }
   ],
   "source": [
    "a"
   ]
  },
  {
   "cell_type": "code",
   "execution_count": 6,
   "metadata": {},
   "outputs": [
    {
     "data": {
      "text/plain": [
       "torch.Size([3, 2, 4, 4])"
      ]
     },
     "execution_count": 6,
     "metadata": {},
     "output_type": "execute_result"
    }
   ],
   "source": [
    "a.shape"
   ]
  },
  {
   "cell_type": "code",
   "execution_count": 7,
   "metadata": {},
   "outputs": [
    {
     "data": {
      "text/plain": [
       "tensor([[[ 0.1326, -0.4469, -1.8893, -0.0173],\n",
       "         [ 0.1470,  0.8052,  0.1452, -1.2739],\n",
       "         [-0.6196,  0.0174, -1.8090, -0.5220],\n",
       "         [ 0.6511, -0.5360,  1.3740, -0.1109]],\n",
       "\n",
       "        [[-1.0606, -0.2963,  0.6789,  2.0139],\n",
       "         [ 0.7893,  0.2023,  0.2171,  0.0164],\n",
       "         [-0.4715,  1.5466,  2.1566,  0.7128],\n",
       "         [ 0.1048, -0.2634,  0.2985,  0.5655]],\n",
       "\n",
       "        [[ 0.6541,  0.1763, -0.4439, -0.1078],\n",
       "         [ 0.7083, -0.1954,  0.4829, -1.4821],\n",
       "         [-2.6569, -0.6454,  0.5084, -0.3519],\n",
       "         [ 0.9342, -1.4879,  0.5695,  1.0583]]])"
      ]
     },
     "execution_count": 7,
     "metadata": {},
     "output_type": "execute_result"
    }
   ],
   "source": [
    "a[:, 0, :, :]"
   ]
  },
  {
   "cell_type": "code",
   "execution_count": 10,
   "metadata": {},
   "outputs": [],
   "source": [
    "c = torch.cat((a[:, 0, :, :], a[:, 1, :, :]), dim=2)"
   ]
  },
  {
   "cell_type": "code",
   "execution_count": 12,
   "metadata": {},
   "outputs": [
    {
     "data": {
      "text/plain": [
       "torch.Size([3, 4, 8])"
      ]
     },
     "execution_count": 12,
     "metadata": {},
     "output_type": "execute_result"
    }
   ],
   "source": [
    "c.shape"
   ]
  },
  {
   "cell_type": "code",
   "execution_count": null,
   "metadata": {
    "collapsed": true
   },
   "outputs": [],
   "source": []
  }
 ],
 "metadata": {
  "kernelspec": {
   "display_name": "Python 3",
   "language": "python",
   "name": "python3"
  },
  "language_info": {
   "codemirror_mode": {
    "name": "ipython",
    "version": 3
   },
   "file_extension": ".py",
   "mimetype": "text/x-python",
   "name": "python",
   "nbconvert_exporter": "python",
   "pygments_lexer": "ipython3",
   "version": "3.6.6"
  }
 },
 "nbformat": 4,
 "nbformat_minor": 2
}
